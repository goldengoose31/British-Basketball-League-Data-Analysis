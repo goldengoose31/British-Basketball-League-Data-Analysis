{
 "cells": [
  {
   "cell_type": "code",
   "execution_count": null,
   "id": "81071d76-8b6c-46e2-8ee1-083fdc21c508",
   "metadata": {},
   "outputs": [],
   "source": [
    "# Setup datasets\n",
    "\n",
    "import mplcursors\n",
    "import numpy as np\n",
    "import pandas as pd\n",
    "import matplotlib.pyplot as plt\n",
    "from matplotlib.offsetbox import OffsetImage, AnnotationBbox\n",
    "from IPython.display import display\n",
    "\n",
    "# Sources for advanced statistical formulae include:\n",
    "# https://faq.stathead.com/knowledge/basketball-advanced-stats\n",
    "\n",
    "# Importing player & team averages/totals datasets\n",
    "dfs = pd.read_excel(r\"C:\\Users\\henry\\Jupyter Notebooks\\BBL Stats & Images\\bbl_stats.xlsx\", sheet_name = ['player_averages','team_averages','player_totals','team_totals'])\n",
    "\n",
    "# Merge total and average dataframes. Remove duplicate columns\n",
    "player_df = pd.merge(dfs['player_averages'], dfs['player_totals'], on='Name').filter(regex='^(?!.*_y)').rename(columns=lambda x: x.replace('_x', ''))\n",
    "team_df = pd.merge(dfs['team_averages'], dfs['team_totals'], on='Team').filter(regex='^(?!.*_y)').rename(columns=lambda x: x.replace('_x', ''))\n",
    "\n",
    "# Reformat player names\n",
    "player_df[['Last Name', 'First Name']] = player_df['Name'].str.split(', ', expand=True)\n",
    "player_df = player_df.drop(['Name'], axis=1)\n",
    "player_df['Name'] = player_df['First Name'] + ' ' + player_df['Last Name']\n",
    "player_df = player_df.drop(['Last Name', 'First Name'], axis=1)\n",
    "player_df = player_df[['Name'] + [col for col in player_df.columns if col != 'Name']]\n",
    "\n",
    "# Reformat team names\n",
    "removed_list = ['B. Braun ', 'Seriös Group ']\n",
    "for str in removed_list:\n",
    "    team_df['Team'] = team_df['Team'].str.replace(str, '')\n",
    "\n",
    "# Add logo/picture references\n",
    "team_df['path'] = 'BBL Stats & Images/Team Logos/' + team_df['Team'] + '.png'"
   ]
  },
  {
   "cell_type": "code",
   "execution_count": null,
   "id": "9624d452-b259-4dc3-b225-47dda4341b95",
   "metadata": {},
   "outputs": [],
   "source": [
    "# Adding additional team statistics\n",
    "\n",
    "# Est POS (Estimated Possessions) & Est POSPG (Estimated Possessions per Game)\n",
    "team_df['Est POS'] = (team_df['FGA'] - team_df['OFF']) + team_df['TO'] + (0.4 * team_df['FTA'])\n",
    "team_df['Est POSPG'] = round(team_df['Est POS']/team_df['GP'], 1)\n",
    "# OFFRTG (Offensive rating, 100 * points per possession)\n",
    "team_df['OFFRTG'] = round(100*(team_df['Pts'] / team_df['Est POS']), 1)"
   ]
  },
  {
   "cell_type": "code",
   "execution_count": null,
   "id": "0028bbec-5087-4151-9216-8186de31ba4b",
   "metadata": {},
   "outputs": [],
   "source": [
    "# Visualisations\n",
    "\n",
    "# Take axis input\n",
    "# x_axis = input(\"What do you want plotted on the x-axis?\")\n",
    "# y_axis = input(\"What do you want plotted on the y-axis?\")\n",
    "x_axis = \"3P%\"\n",
    "y_axis = \"OFFRTG\"\n",
    "\n",
    "def getImage(path):\n",
    "    return OffsetImage(plt.imread(path), zoom=0.15, alpha = 1)\n",
    "\n",
    "fig, ax = plt.subplots(figsize = (10, 6), dpi = 300)\n",
    "ax.scatter(team_df[x_axis], team_df[y_axis], color = 'white')\n",
    "\n",
    "for index, row in team_df.iterrows():\n",
    "    ab = AnnotationBbox(getImage(row['path']), (row[x_axis], row[y_axis]), frameon=False)\n",
    "    ax.add_artist(ab)\n",
    "\n",
    "ax.set_xlabel(x_axis)\n",
    "ax.set_ylabel(y_axis)\n",
    "ax.set_title(f'{x_axis} vs. {y_axis} for BBL Teams');"
   ]
  },
  {
   "cell_type": "code",
   "execution_count": null,
   "id": "51114606-1c4a-49b7-9391-1686d98f366d",
   "metadata": {},
   "outputs": [],
   "source": [
    "# Adding additional player statistics\n",
    "\n",
    "# EFG% (Effective Field Goal %)\n",
    "player_df['eFG%'] = round(100 * (player_df['FGM'] + 0.5 * player_df['3PM']) / player_df['FGA'], 1)\n",
    "# TS% (True Shooting %)\n",
    "player_df['TS%'] = round(100 * player_df['PTS'] / (2 * (player_df['FGA'] + .475 * player_df['FTA'])), 1)\n",
    "# AST:TO\n",
    "player_df['AST:TO'] = round(player_df['AST']/player_df['TO'], 2)"
   ]
  },
  {
   "cell_type": "code",
   "execution_count": null,
   "id": "5143b80e-ed3d-4338-9c20-25981b0980f9",
   "metadata": {},
   "outputs": [],
   "source": [
    "# PICK OUT MEMBERS OF 50/40/90 CLUB\n",
    "\n",
    "fg_condition = player_df['FG%'] >= 50\n",
    "threepoint_condition = player_df['3P%'] >= 40\n",
    "ft_condition = player_df['FT%'] >= 90\n",
    "\n",
    "# The NBA requires at least 300 FGs, 82 3Ps, and 125 FTs made to make the club. This works out to the following per game prerequisites, after adjustment for game length differences.\n",
    "# Context on some numbers below: 82 is the number of NBA games per season. There are 40 minutes in a BBL game and 48 in an NBA game\n",
    "fgm_prerequisite = player_df['FGMPG'] >= 300/82 * 40/48\n",
    "threepointmade_prerequisite = player_df['3PMPG'] >= 82/82 * 40/48\n",
    "ftm_prerequisite = player_df['FTMPG'] >= 125/82 * 40/48\n",
    "\n",
    "players_50_40_90 = player_df[fg_condition & threepoint_condition & ft_condition & fgm_prerequisite & threepointmade_prerequisite & ftm_prerequisite]\n",
    "\n",
    "if players_50_40_90.shape[0] > 0:\n",
    "    print(f\"The 50/40/90 club includes the {players_50_40_90.shape[0]} players below\")\n",
    "    display(players_50_40_90[['Name', 'FG%', '3P%', 'FT%']])\n",
    "else:\n",
    "    print(\"The 50/40/90 club currently includes no players\")"
   ]
  }
 ],
 "metadata": {
  "kernelspec": {
   "display_name": "Python 3 (ipykernel)",
   "language": "python",
   "name": "python3"
  },
  "language_info": {
   "codemirror_mode": {
    "name": "ipython",
    "version": 3
   },
   "file_extension": ".py",
   "mimetype": "text/x-python",
   "name": "python",
   "nbconvert_exporter": "python",
   "pygments_lexer": "ipython3",
   "version": "3.9.5"
  }
 },
 "nbformat": 4,
 "nbformat_minor": 5
}
