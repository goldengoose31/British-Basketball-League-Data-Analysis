{
 "cells": [
  {
   "cell_type": "code",
   "execution_count": 2,
   "id": "81071d76-8b6c-46e2-8ee1-083fdc21c508",
   "metadata": {},
   "outputs": [
    {
     "ename": "FileNotFoundError",
     "evalue": "[Errno 2] No such file or directory: 'C:\\\\Users\\\\henry\\\\Jupyter Notebooks\\\\BBL Stats & Images\\\\bbl_stats.xlsx'",
     "output_type": "error",
     "traceback": [
      "\u001b[1;31m---------------------------------------------------------------------------\u001b[0m",
      "\u001b[1;31mFileNotFoundError\u001b[0m                         Traceback (most recent call last)",
      "Cell \u001b[1;32mIn[2], line 14\u001b[0m\n\u001b[0;32m      8\u001b[0m \u001b[38;5;28;01mfrom\u001b[39;00m \u001b[38;5;21;01mIPython\u001b[39;00m\u001b[38;5;21;01m.\u001b[39;00m\u001b[38;5;21;01mdisplay\u001b[39;00m \u001b[38;5;28;01mimport\u001b[39;00m display\n\u001b[0;32m     10\u001b[0m \u001b[38;5;66;03m# Sources for advanced statistical formulae include:\u001b[39;00m\n\u001b[0;32m     11\u001b[0m \u001b[38;5;66;03m# https://faq.stathead.com/knowledge/basketball-advanced-stats\u001b[39;00m\n\u001b[0;32m     12\u001b[0m \n\u001b[0;32m     13\u001b[0m \u001b[38;5;66;03m# Importing player & team averages/totals datasets\u001b[39;00m\n\u001b[1;32m---> 14\u001b[0m dfs \u001b[38;5;241m=\u001b[39m \u001b[43mpd\u001b[49m\u001b[38;5;241;43m.\u001b[39;49m\u001b[43mread_excel\u001b[49m\u001b[43m(\u001b[49m\u001b[38;5;124;43mr\u001b[39;49m\u001b[38;5;124;43m\"\u001b[39;49m\u001b[38;5;124;43mC:\u001b[39;49m\u001b[38;5;124;43m\\\u001b[39;49m\u001b[38;5;124;43mUsers\u001b[39;49m\u001b[38;5;124;43m\\\u001b[39;49m\u001b[38;5;124;43mhenry\u001b[39;49m\u001b[38;5;124;43m\\\u001b[39;49m\u001b[38;5;124;43mJupyter Notebooks\u001b[39;49m\u001b[38;5;124;43m\\\u001b[39;49m\u001b[38;5;124;43mBBL Stats & Images\u001b[39;49m\u001b[38;5;124;43m\\\u001b[39;49m\u001b[38;5;124;43mbbl_stats.xlsx\u001b[39;49m\u001b[38;5;124;43m\"\u001b[39;49m\u001b[43m,\u001b[49m\u001b[43m \u001b[49m\u001b[43msheet_name\u001b[49m\u001b[43m \u001b[49m\u001b[38;5;241;43m=\u001b[39;49m\u001b[43m \u001b[49m\u001b[43m[\u001b[49m\u001b[38;5;124;43m'\u001b[39;49m\u001b[38;5;124;43mplayer_averages\u001b[39;49m\u001b[38;5;124;43m'\u001b[39;49m\u001b[43m,\u001b[49m\u001b[38;5;124;43m'\u001b[39;49m\u001b[38;5;124;43mteam_averages\u001b[39;49m\u001b[38;5;124;43m'\u001b[39;49m\u001b[43m,\u001b[49m\u001b[38;5;124;43m'\u001b[39;49m\u001b[38;5;124;43mplayer_totals\u001b[39;49m\u001b[38;5;124;43m'\u001b[39;49m\u001b[43m,\u001b[49m\u001b[38;5;124;43m'\u001b[39;49m\u001b[38;5;124;43mteam_totals\u001b[39;49m\u001b[38;5;124;43m'\u001b[39;49m\u001b[43m]\u001b[49m\u001b[43m)\u001b[49m\n\u001b[0;32m     16\u001b[0m \u001b[38;5;66;03m# Merge total and average dataframes. Remove duplicate columns\u001b[39;00m\n\u001b[0;32m     17\u001b[0m player_df \u001b[38;5;241m=\u001b[39m pd\u001b[38;5;241m.\u001b[39mmerge(dfs[\u001b[38;5;124m'\u001b[39m\u001b[38;5;124mplayer_averages\u001b[39m\u001b[38;5;124m'\u001b[39m], dfs[\u001b[38;5;124m'\u001b[39m\u001b[38;5;124mplayer_totals\u001b[39m\u001b[38;5;124m'\u001b[39m], on\u001b[38;5;241m=\u001b[39m\u001b[38;5;124m'\u001b[39m\u001b[38;5;124mName\u001b[39m\u001b[38;5;124m'\u001b[39m)\u001b[38;5;241m.\u001b[39mfilter(regex\u001b[38;5;241m=\u001b[39m\u001b[38;5;124m'\u001b[39m\u001b[38;5;124m^(?!.*_y)\u001b[39m\u001b[38;5;124m'\u001b[39m)\u001b[38;5;241m.\u001b[39mrename(columns\u001b[38;5;241m=\u001b[39m\u001b[38;5;28;01mlambda\u001b[39;00m x: x\u001b[38;5;241m.\u001b[39mreplace(\u001b[38;5;124m'\u001b[39m\u001b[38;5;124m_x\u001b[39m\u001b[38;5;124m'\u001b[39m, \u001b[38;5;124m'\u001b[39m\u001b[38;5;124m'\u001b[39m))\n",
      "File \u001b[1;32m~\\AppData\\Roaming\\Python\\Python39\\site-packages\\pandas\\io\\excel\\_base.py:504\u001b[0m, in \u001b[0;36mread_excel\u001b[1;34m(io, sheet_name, header, names, index_col, usecols, dtype, engine, converters, true_values, false_values, skiprows, nrows, na_values, keep_default_na, na_filter, verbose, parse_dates, date_parser, date_format, thousands, decimal, comment, skipfooter, storage_options, dtype_backend, engine_kwargs)\u001b[0m\n\u001b[0;32m    502\u001b[0m \u001b[38;5;28;01mif\u001b[39;00m \u001b[38;5;129;01mnot\u001b[39;00m \u001b[38;5;28misinstance\u001b[39m(io, ExcelFile):\n\u001b[0;32m    503\u001b[0m     should_close \u001b[38;5;241m=\u001b[39m \u001b[38;5;28;01mTrue\u001b[39;00m\n\u001b[1;32m--> 504\u001b[0m     io \u001b[38;5;241m=\u001b[39m \u001b[43mExcelFile\u001b[49m\u001b[43m(\u001b[49m\n\u001b[0;32m    505\u001b[0m \u001b[43m        \u001b[49m\u001b[43mio\u001b[49m\u001b[43m,\u001b[49m\n\u001b[0;32m    506\u001b[0m \u001b[43m        \u001b[49m\u001b[43mstorage_options\u001b[49m\u001b[38;5;241;43m=\u001b[39;49m\u001b[43mstorage_options\u001b[49m\u001b[43m,\u001b[49m\n\u001b[0;32m    507\u001b[0m \u001b[43m        \u001b[49m\u001b[43mengine\u001b[49m\u001b[38;5;241;43m=\u001b[39;49m\u001b[43mengine\u001b[49m\u001b[43m,\u001b[49m\n\u001b[0;32m    508\u001b[0m \u001b[43m        \u001b[49m\u001b[43mengine_kwargs\u001b[49m\u001b[38;5;241;43m=\u001b[39;49m\u001b[43mengine_kwargs\u001b[49m\u001b[43m,\u001b[49m\n\u001b[0;32m    509\u001b[0m \u001b[43m    \u001b[49m\u001b[43m)\u001b[49m\n\u001b[0;32m    510\u001b[0m \u001b[38;5;28;01melif\u001b[39;00m engine \u001b[38;5;129;01mand\u001b[39;00m engine \u001b[38;5;241m!=\u001b[39m io\u001b[38;5;241m.\u001b[39mengine:\n\u001b[0;32m    511\u001b[0m     \u001b[38;5;28;01mraise\u001b[39;00m \u001b[38;5;167;01mValueError\u001b[39;00m(\n\u001b[0;32m    512\u001b[0m         \u001b[38;5;124m\"\u001b[39m\u001b[38;5;124mEngine should not be specified when passing \u001b[39m\u001b[38;5;124m\"\u001b[39m\n\u001b[0;32m    513\u001b[0m         \u001b[38;5;124m\"\u001b[39m\u001b[38;5;124man ExcelFile - ExcelFile already has the engine set\u001b[39m\u001b[38;5;124m\"\u001b[39m\n\u001b[0;32m    514\u001b[0m     )\n",
      "File \u001b[1;32m~\\AppData\\Roaming\\Python\\Python39\\site-packages\\pandas\\io\\excel\\_base.py:1563\u001b[0m, in \u001b[0;36mExcelFile.__init__\u001b[1;34m(self, path_or_buffer, engine, storage_options, engine_kwargs)\u001b[0m\n\u001b[0;32m   1561\u001b[0m     ext \u001b[38;5;241m=\u001b[39m \u001b[38;5;124m\"\u001b[39m\u001b[38;5;124mxls\u001b[39m\u001b[38;5;124m\"\u001b[39m\n\u001b[0;32m   1562\u001b[0m \u001b[38;5;28;01melse\u001b[39;00m:\n\u001b[1;32m-> 1563\u001b[0m     ext \u001b[38;5;241m=\u001b[39m \u001b[43minspect_excel_format\u001b[49m\u001b[43m(\u001b[49m\n\u001b[0;32m   1564\u001b[0m \u001b[43m        \u001b[49m\u001b[43mcontent_or_path\u001b[49m\u001b[38;5;241;43m=\u001b[39;49m\u001b[43mpath_or_buffer\u001b[49m\u001b[43m,\u001b[49m\u001b[43m \u001b[49m\u001b[43mstorage_options\u001b[49m\u001b[38;5;241;43m=\u001b[39;49m\u001b[43mstorage_options\u001b[49m\n\u001b[0;32m   1565\u001b[0m \u001b[43m    \u001b[49m\u001b[43m)\u001b[49m\n\u001b[0;32m   1566\u001b[0m     \u001b[38;5;28;01mif\u001b[39;00m ext \u001b[38;5;129;01mis\u001b[39;00m \u001b[38;5;28;01mNone\u001b[39;00m:\n\u001b[0;32m   1567\u001b[0m         \u001b[38;5;28;01mraise\u001b[39;00m \u001b[38;5;167;01mValueError\u001b[39;00m(\n\u001b[0;32m   1568\u001b[0m             \u001b[38;5;124m\"\u001b[39m\u001b[38;5;124mExcel file format cannot be determined, you must specify \u001b[39m\u001b[38;5;124m\"\u001b[39m\n\u001b[0;32m   1569\u001b[0m             \u001b[38;5;124m\"\u001b[39m\u001b[38;5;124man engine manually.\u001b[39m\u001b[38;5;124m\"\u001b[39m\n\u001b[0;32m   1570\u001b[0m         )\n",
      "File \u001b[1;32m~\\AppData\\Roaming\\Python\\Python39\\site-packages\\pandas\\io\\excel\\_base.py:1419\u001b[0m, in \u001b[0;36minspect_excel_format\u001b[1;34m(content_or_path, storage_options)\u001b[0m\n\u001b[0;32m   1416\u001b[0m \u001b[38;5;28;01mif\u001b[39;00m \u001b[38;5;28misinstance\u001b[39m(content_or_path, \u001b[38;5;28mbytes\u001b[39m):\n\u001b[0;32m   1417\u001b[0m     content_or_path \u001b[38;5;241m=\u001b[39m BytesIO(content_or_path)\n\u001b[1;32m-> 1419\u001b[0m \u001b[38;5;28;01mwith\u001b[39;00m \u001b[43mget_handle\u001b[49m\u001b[43m(\u001b[49m\n\u001b[0;32m   1420\u001b[0m \u001b[43m    \u001b[49m\u001b[43mcontent_or_path\u001b[49m\u001b[43m,\u001b[49m\u001b[43m \u001b[49m\u001b[38;5;124;43m\"\u001b[39;49m\u001b[38;5;124;43mrb\u001b[39;49m\u001b[38;5;124;43m\"\u001b[39;49m\u001b[43m,\u001b[49m\u001b[43m \u001b[49m\u001b[43mstorage_options\u001b[49m\u001b[38;5;241;43m=\u001b[39;49m\u001b[43mstorage_options\u001b[49m\u001b[43m,\u001b[49m\u001b[43m \u001b[49m\u001b[43mis_text\u001b[49m\u001b[38;5;241;43m=\u001b[39;49m\u001b[38;5;28;43;01mFalse\u001b[39;49;00m\n\u001b[0;32m   1421\u001b[0m \u001b[43m\u001b[49m\u001b[43m)\u001b[49m \u001b[38;5;28;01mas\u001b[39;00m handle:\n\u001b[0;32m   1422\u001b[0m     stream \u001b[38;5;241m=\u001b[39m handle\u001b[38;5;241m.\u001b[39mhandle\n\u001b[0;32m   1423\u001b[0m     stream\u001b[38;5;241m.\u001b[39mseek(\u001b[38;5;241m0\u001b[39m)\n",
      "File \u001b[1;32m~\\AppData\\Roaming\\Python\\Python39\\site-packages\\pandas\\io\\common.py:872\u001b[0m, in \u001b[0;36mget_handle\u001b[1;34m(path_or_buf, mode, encoding, compression, memory_map, is_text, errors, storage_options)\u001b[0m\n\u001b[0;32m    863\u001b[0m         handle \u001b[38;5;241m=\u001b[39m \u001b[38;5;28mopen\u001b[39m(\n\u001b[0;32m    864\u001b[0m             handle,\n\u001b[0;32m    865\u001b[0m             ioargs\u001b[38;5;241m.\u001b[39mmode,\n\u001b[1;32m   (...)\u001b[0m\n\u001b[0;32m    868\u001b[0m             newline\u001b[38;5;241m=\u001b[39m\u001b[38;5;124m\"\u001b[39m\u001b[38;5;124m\"\u001b[39m,\n\u001b[0;32m    869\u001b[0m         )\n\u001b[0;32m    870\u001b[0m     \u001b[38;5;28;01melse\u001b[39;00m:\n\u001b[0;32m    871\u001b[0m         \u001b[38;5;66;03m# Binary mode\u001b[39;00m\n\u001b[1;32m--> 872\u001b[0m         handle \u001b[38;5;241m=\u001b[39m \u001b[38;5;28;43mopen\u001b[39;49m\u001b[43m(\u001b[49m\u001b[43mhandle\u001b[49m\u001b[43m,\u001b[49m\u001b[43m \u001b[49m\u001b[43mioargs\u001b[49m\u001b[38;5;241;43m.\u001b[39;49m\u001b[43mmode\u001b[49m\u001b[43m)\u001b[49m\n\u001b[0;32m    873\u001b[0m     handles\u001b[38;5;241m.\u001b[39mappend(handle)\n\u001b[0;32m    875\u001b[0m \u001b[38;5;66;03m# Convert BytesIO or file objects passed with an encoding\u001b[39;00m\n",
      "\u001b[1;31mFileNotFoundError\u001b[0m: [Errno 2] No such file or directory: 'C:\\\\Users\\\\henry\\\\Jupyter Notebooks\\\\BBL Stats & Images\\\\bbl_stats.xlsx'"
     ]
    }
   ],
   "source": [
    "# Setup datasets\n",
    "\n",
    "import mplcursors\n",
    "import numpy as np\n",
    "import pandas as pd\n",
    "import matplotlib.pyplot as plt\n",
    "from matplotlib.offsetbox import OffsetImage, AnnotationBbox\n",
    "from IPython.display import display\n",
    "\n",
    "# Sources for advanced statistical formulae include:\n",
    "# https://faq.stathead.com/knowledge/basketball-advanced-stats\n",
    "\n",
    "# Importing player & team averages/totals datasets\n",
    "dfs = pd.read_excel(r\"C:\\Users\\henry\\Jupyter Notebooks\\BBL Stats & Images\\bbl_stats.xlsx\", sheet_name = ['player_averages','team_averages','player_totals','team_totals'])\n",
    "\n",
    "# Merge total and average dataframes. Remove duplicate columns\n",
    "player_df = pd.merge(dfs['player_averages'], dfs['player_totals'], on='Name').filter(regex='^(?!.*_y)').rename(columns=lambda x: x.replace('_x', ''))\n",
    "team_df = pd.merge(dfs['team_averages'], dfs['team_totals'], on='Team').filter(regex='^(?!.*_y)').rename(columns=lambda x: x.replace('_x', ''))\n",
    "\n",
    "# Reformat player names\n",
    "player_df[['Last Name', 'First Name']] = player_df['Name'].str.split(', ', expand=True)\n",
    "player_df = player_df.drop(['Name'], axis=1)\n",
    "player_df['Name'] = player_df['First Name'] + ' ' + player_df['Last Name']\n",
    "player_df = player_df.drop(['Last Name', 'First Name'], axis=1)\n",
    "player_df = player_df[['Name'] + [col for col in player_df.columns if col != 'Name']]\n",
    "\n",
    "# Reformat team names\n",
    "removed_list = ['B. Braun ', 'Seriös Group ']\n",
    "for str in removed_list:\n",
    "    team_df['Team'] = team_df['Team'].str.replace(str, '')\n",
    "\n",
    "# Add logo/picture references\n",
    "team_df['path'] = 'BBL Stats & Images/Team Logos/' + team_df['Team'] + '.png'"
   ]
  },
  {
   "cell_type": "code",
   "execution_count": 14,
   "id": "9624d452-b259-4dc3-b225-47dda4341b95",
   "metadata": {},
   "outputs": [],
   "source": [
    "# Adding additional team statistics\n",
    "\n",
    "# Est POS (Estimated Possessions) & Est POSPG (Estimated Possessions per Game)\n",
    "team_df['Est POS'] = (team_df['FGA'] - team_df['OFF']) + team_df['TO'] + (0.4 * team_df['FTA'])\n",
    "team_df['Est POSPG'] = round(team_df['Est POS']/team_df['GP'], 1)\n",
    "# OFFRTG (Offensive rating, 100 * points per possession)\n",
    "team_df['OFFRTG'] = round(100*(team_df['Pts'] / team_df['Est POS']), 1)"
   ]
  },
  {
   "cell_type": "code",
   "execution_count": 1,
   "id": "0028bbec-5087-4151-9216-8186de31ba4b",
   "metadata": {},
   "outputs": [
    {
     "ename": "NameError",
     "evalue": "name 'plt' is not defined",
     "output_type": "error",
     "traceback": [
      "\u001b[1;31m---------------------------------------------------------------------------\u001b[0m",
      "\u001b[1;31mNameError\u001b[0m                                 Traceback (most recent call last)",
      "Cell \u001b[1;32mIn[1], line 12\u001b[0m\n\u001b[0;32m      9\u001b[0m \u001b[38;5;28;01mdef\u001b[39;00m \u001b[38;5;21mgetImage\u001b[39m(path):\n\u001b[0;32m     10\u001b[0m     \u001b[38;5;28;01mreturn\u001b[39;00m OffsetImage(plt\u001b[38;5;241m.\u001b[39mimread(path), zoom\u001b[38;5;241m=\u001b[39m\u001b[38;5;241m0.15\u001b[39m, alpha \u001b[38;5;241m=\u001b[39m \u001b[38;5;241m0.6\u001b[39m)\n\u001b[1;32m---> 12\u001b[0m fig, ax \u001b[38;5;241m=\u001b[39m \u001b[43mplt\u001b[49m\u001b[38;5;241m.\u001b[39msubplots(figsize \u001b[38;5;241m=\u001b[39m (\u001b[38;5;241m10\u001b[39m, \u001b[38;5;241m6\u001b[39m), dpi \u001b[38;5;241m=\u001b[39m \u001b[38;5;241m300\u001b[39m)\n\u001b[0;32m     13\u001b[0m ax\u001b[38;5;241m.\u001b[39mscatter(team_df[x_axis], team_df[y_axis], color \u001b[38;5;241m=\u001b[39m \u001b[38;5;124m'\u001b[39m\u001b[38;5;124mwhite\u001b[39m\u001b[38;5;124m'\u001b[39m)\n\u001b[0;32m     15\u001b[0m \u001b[38;5;28;01mfor\u001b[39;00m index, row \u001b[38;5;129;01min\u001b[39;00m team_df\u001b[38;5;241m.\u001b[39miterrows():\n",
      "\u001b[1;31mNameError\u001b[0m: name 'plt' is not defined"
     ]
    }
   ],
   "source": [
    "# Visualisations\n",
    "\n",
    "# Take axis input\n",
    "# x_axis = input(\"What do you want plotted on the x-axis?\")\n",
    "# y_axis = input(\"What do you want plotted on the y-axis?\")\n",
    "x_axis = \"3P%\"\n",
    "y_axis = \"OFFRTG\"\n",
    "\n",
    "def getImage(path):\n",
    "    return OffsetImage(plt.imread(path), zoom=0.15, alpha = 1)\n",
    "\n",
    "fig, ax = plt.subplots(figsize = (10, 6), dpi = 300)\n",
    "ax.scatter(team_df[x_axis], team_df[y_axis], color = 'white')\n",
    "\n",
    "for index, row in team_df.iterrows():\n",
    "    ab = AnnotationBbox(getImage(row['path']), (row[x_axis], row[y_axis]), frameon=False)\n",
    "    ax.add_artist(ab)\n",
    "\n",
    "ax.set_xlabel(x_axis)\n",
    "ax.set_ylabel(y_axis)\n",
    "ax.set_title(f'{x_axis} vs. {y_axis} for BBL Teams');"
   ]
  },
  {
   "cell_type": "code",
   "execution_count": null,
   "id": "51114606-1c4a-49b7-9391-1686d98f366d",
   "metadata": {},
   "outputs": [],
   "source": [
    "# Adding additional player statistics\n",
    "\n",
    "# EFG% (Effective Field Goal %)\n",
    "player_df['eFG%'] = round(100 * (player_df['FGM'] + 0.5 * player_df['3PM']) / player_df['FGA'], 1)\n",
    "# TS% (True Shooting %)\n",
    "player_df['TS%'] = round(100 * player_df['PTS'] / (2 * (player_df['FGA'] + .475 * player_df['FTA'])), 1)\n",
    "# AST:TO\n",
    "player_df['AST:TO'] = round(player_df['AST']/player_df['TO'], 2)"
   ]
  },
  {
   "cell_type": "code",
   "execution_count": null,
   "id": "5143b80e-ed3d-4338-9c20-25981b0980f9",
   "metadata": {},
   "outputs": [],
   "source": [
    "# PICK OUT MEMBERS OF 50/40/90 CLUB\n",
    "\n",
    "fg_condition = player_df['FG%'] >= 50\n",
    "threepoint_condition = player_df['3P%'] >= 40\n",
    "ft_condition = player_df['FT%'] >= 90\n",
    "\n",
    "# The NBA requires at least 300 FGs, 82 3Ps, and 125 FTs made to make the club. This works out to the following per game prerequisites, after adjustment for game length differences.\n",
    "# Context on some numbers below: 82 is the number of NBA games per season. There are 40 minutes in a BBL game and 48 in an NBA game\n",
    "fgm_prerequisite = player_df['FGMPG'] >= 300/82 * 40/48\n",
    "threepointmade_prerequisite = player_df['3PMPG'] >= 82/82 * 40/48\n",
    "ftm_prerequisite = player_df['FTMPG'] >= 125/82 * 40/48\n",
    "\n",
    "players_50_40_90 = player_df[fg_condition & threepoint_condition & ft_condition & fgm_prerequisite & threepointmade_prerequisite & ftm_prerequisite]\n",
    "\n",
    "if players_50_40_90.shape[0] > 0:\n",
    "    print(f\"The 50/40/90 club includes the {players_50_40_90.shape[0]} players below\")\n",
    "    display(players_50_40_90[['Name', 'FG%', '3P%', 'FT%']])\n",
    "else:\n",
    "    print(\"The 50/40/90 club currently includes no players\")"
   ]
  }
 ],
 "metadata": {
  "kernelspec": {
   "display_name": "Python 3 (ipykernel)",
   "language": "python",
   "name": "python3"
  },
  "language_info": {
   "codemirror_mode": {
    "name": "ipython",
    "version": 3
   },
   "file_extension": ".py",
   "mimetype": "text/x-python",
   "name": "python",
   "nbconvert_exporter": "python",
   "pygments_lexer": "ipython3",
   "version": "3.9.5"
  }
 },
 "nbformat": 4,
 "nbformat_minor": 5
}
